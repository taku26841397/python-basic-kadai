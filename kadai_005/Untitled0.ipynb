{
  "nbformat": 4,
  "nbformat_minor": 0,
  "metadata": {
    "colab": {
      "provenance": []
    },
    "kernelspec": {
      "name": "python3",
      "display_name": "Python 3"
    },
    "language_info": {
      "name": "python"
    }
  },
  "cells": [
    {
      "cell_type": "code",
      "execution_count": 1,
      "metadata": {
        "colab": {
          "base_uri": "https://localhost:8080/"
        },
        "id": "riE3NM_CjUb8",
        "outputId": "019d67be-0aa4-4fc6-ffd8-9b4476a75622"
      },
      "outputs": [
        {
          "output_type": "stream",
          "name": "stdout",
          "text": [
            "計算結果：75.0\n"
          ]
        }
      ],
      "source": [
        "upper=10\n",
        "under=20\n",
        "height=5\n",
        "\n",
        "area=(upper+under)*height/2\n",
        "\n",
        "print(\"計算結果：\"+str(area))"
      ]
    }
  ]
}